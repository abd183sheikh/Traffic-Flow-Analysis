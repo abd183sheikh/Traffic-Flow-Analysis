{
 "cells": [
  {
   "cell_type": "code",
   "execution_count": 156,
   "id": "e7b49f99",
   "metadata": {},
   "outputs": [],
   "source": [
    "import time\n",
    "from pathlib import Path\n",
    "import cv2 as cv\n",
    "import numpy as np\n",
    "import pandas as pd\n",
    "import torch\n",
    "from ultralytics import YOLO\n",
    "from deep_sort_realtime.deepsort_tracker import DeepSort\n"
   ]
  },
  {
   "cell_type": "code",
   "execution_count": 157,
   "id": "3903465b",
   "metadata": {},
   "outputs": [],
   "source": [
    "video_path = \"video.mp4\" \n",
    "cap = cv.VideoCapture(video_path)"
   ]
  },
  {
   "cell_type": "code",
   "execution_count": 158,
   "id": "c652bc61",
   "metadata": {},
   "outputs": [],
   "source": [
    "output_video = \"annotated_output.mp4\"\n",
    "output_csv = \"vehicle_counts.csv\""
   ]
  },
  {
   "cell_type": "code",
   "execution_count": 159,
   "id": "8107b34b",
   "metadata": {},
   "outputs": [],
   "source": [
    "LANES = [\n",
    "(0, 426),     \n",
    "(427, 852),   \n",
    "(853, 1280)   \n",
    "]"
   ]
  },
  {
   "cell_type": "code",
   "execution_count": 160,
   "id": "8e0c3945",
   "metadata": {},
   "outputs": [
    {
     "name": "stderr",
     "output_type": "stream",
     "text": [
      "Downloading https://github.com/ultralytics/assets/releases/download/v8.3.0/yolov8l.pt to 'yolov8l.pt': 100%|██████████| 83.7M/83.7M [00:26<00:00, 3.26MB/s]\n"
     ]
    },
    {
     "name": "stdout",
     "output_type": "stream",
     "text": [
      "True\n",
      "NVIDIA GeForce RTX 2050\n"
     ]
    }
   ],
   "source": [
    "model = YOLO(\"yolov8l.pt\")  \n",
    "print(torch.cuda.is_available())  \n",
    "print(torch.cuda.get_device_name(0))  \n",
    "model.to(\"cuda\")\n",
    "tracker = DeepSort(max_age=15)"
   ]
  },
  {
   "cell_type": "code",
   "execution_count": 161,
   "id": "f46f352d",
   "metadata": {},
   "outputs": [],
   "source": [
    "cap = cv.VideoCapture(video_path)\n",
    "width = int(cap.get(cv.CAP_PROP_FRAME_WIDTH))\n",
    "height = int(cap.get(cv.CAP_PROP_FRAME_HEIGHT))\n",
    "fps = cap.get(cv.CAP_PROP_FPS)"
   ]
  },
  {
   "cell_type": "code",
   "execution_count": 162,
   "id": "10609d02",
   "metadata": {},
   "outputs": [],
   "source": [
    "fourcc = cv.VideoWriter_fourcc(*\"mp4v\")\n",
    "out = cv.VideoWriter(output_video, fourcc, fps, (width, height))\n"
   ]
  },
  {
   "cell_type": "code",
   "execution_count": 163,
   "id": "8f9f01e3",
   "metadata": {},
   "outputs": [],
   "source": [
    "vehicle_classes = [2, 3, 5, 7] \n",
    "counts = {1: 0, 2: 0, 3: 0}\n",
    "seen_ids = set()\n",
    "csv_data = []"
   ]
  },
  {
   "cell_type": "code",
   "execution_count": 164,
   "id": "f1c857f4",
   "metadata": {},
   "outputs": [],
   "source": [
    "frame_num = 0\n",
    "start_time = time.time()\n"
   ]
  },
  {
   "cell_type": "code",
   "execution_count": 165,
   "id": "9a3a941b",
   "metadata": {},
   "outputs": [],
   "source": [
    "def get_traffic_status(count):\n",
    "    if count > 7:\n",
    "        return \"High Traffic\"\n",
    "    elif 3 <= count <= 7:\n",
    "        return \"Medium Traffic\"\n",
    "    else:\n",
    "        return \"Low Traffic\"\n",
    "lane_width = width // 3        \n",
    "LANES = [(0, lane_width), (lane_width, 2*lane_width), (2*lane_width, width)]    "
   ]
  },
  {
   "cell_type": "code",
   "execution_count": 166,
   "id": "0be34669",
   "metadata": {},
   "outputs": [],
   "source": [
    "while True:\n",
    "    ret, frame = cap.read()\n",
    "    if not ret:\n",
    "        break\n",
    "    frame = cv.resize(frame, (1280, 720))\n",
    "    frame_num += 1\n",
    "    timestamp = frame_num / fps\n",
    "\n",
    "    \n",
    "    results = model(frame,conf=0.5, verbose=False)[0]\n",
    "    detections = []\n",
    "    for box in results.boxes:\n",
    "        cls = int(box.cls)\n",
    "        if cls in vehicle_classes:\n",
    "            x1, y1, x2, y2 = map(int, box.xyxy[0])\n",
    "            conf = float(box.conf)\n",
    "            detections.append(([x1, y1, x2 - x1, y2 - y1], conf, cls))\n",
    "\n",
    "    # update tracker\n",
    "    tracks = tracker.update_tracks(detections, frame=frame)\n",
    "\n",
    "    # count CURRENT active vehicles per lane\n",
    "    lane_counts = [0, 0, 0]\n",
    "    for tr in tracks:\n",
    "        if not tr.is_confirmed():\n",
    "            continue\n",
    "        tlbr = tr.to_tlbr()           \n",
    "        x1, y1, x2, y2 = map(int, tlbr)\n",
    "        cx = (x1 + x2) // 2\n",
    "\n",
    "        # determine which lane the track is currently in \n",
    "        if cx < lane_width:\n",
    "            li = 0\n",
    "        elif cx < 2 * lane_width:\n",
    "            li = 1\n",
    "        else:\n",
    "            li = 2\n",
    "        lane_counts[li] += 1\n",
    "\n",
    "        \n",
    "        track_id = tr.track_id\n",
    "        if (track_id, li+1) not in seen_ids:\n",
    "            counts[li+1] += 1                \n",
    "            seen_ids.add((track_id, li+1))\n",
    "            csv_data.append([track_id, li+1, frame_num, timestamp])\n",
    "\n",
    "        # draw tracked box \n",
    "        cv.rectangle(frame, (x1, y1), (x2, y2), (0, 255, 0), 2)\n",
    "        cv.putText(frame, f\"ID {track_id}\", (x1, y1 - 6),\n",
    "                   cv.FONT_HERSHEY_SIMPLEX, 0.45, (0, 255, 0), 1)\n",
    "        cv.circle(frame, (cx, (y1 + y2)//2), 3, (0, 255, 255), -1)\n",
    "\n",
    "    #draw lane dividers\n",
    "    cv.line(frame, (lane_width, 0), (lane_width, height), (255, 0, 0), 2)\n",
    "    cv.line(frame, (2*lane_width, 0), (2*lane_width, height), (255, 0, 0), 2)\n",
    "\n",
    "    #traffic status\n",
    "    statuses = [get_traffic_status(c) for c in lane_counts]\n",
    "    text_x = width - 300    # shift left from right edge; tune 300 if longer text\n",
    "    for i, (s, c) in enumerate(zip(statuses, lane_counts)):\n",
    "        cv.putText(frame, f\"Lane {i+1}: {s} ({c})\", (text_x, 30 + i*28),\n",
    "                   cv.FONT_HERSHEY_SIMPLEX, 0.7, (255, 255, 255), 2)\n",
    "\n",
    "    for i in range(1, 4):\n",
    "        cv.putText(frame, f\"Total L{i}: {counts[i]}\", (10, height - 20*i),\n",
    "                   cv.FONT_HERSHEY_SIMPLEX, 0.7, (0, 0, 255), 2)\n",
    "\n",
    "    out.write(frame)\n",
    "    cv.imshow(\"Vehicle Counting\", frame)\n",
    "    if cv.waitKey(1) & 0xFF == 27:\n",
    "        break"
   ]
  },
  {
   "cell_type": "code",
   "execution_count": null,
   "id": "2476795e",
   "metadata": {},
   "outputs": [
    {
     "name": "stdout",
     "output_type": "stream",
     "text": [
      "Average Detection Confidence: 81.20%\n",
      "Processing done.\n",
      "Counts per lane: {1: 18, 2: 15, 3: 1}\n"
     ]
    }
   ],
   "source": [
    "cap.release()\n",
    "out.release()\n",
    "cv.destroyAllWindows()\n",
    "\n",
    "confidences = [box.conf[0].item() for box in results.boxes]\n",
    "if confidences:\n",
    "    avg_confidence = sum(confidences) / len(confidences) * 100\n",
    "    print(f\"Average Detection Confidence: {avg_confidence:.2f}%\")\n",
    "\n",
    "# csv\n",
    "df = pd.DataFrame(csv_data, columns=[\"Vehicle ID\", \"Lane\", \"Frame\", \"Timestamp\"])\n",
    "df.to_csv(output_csv, index=False)\n",
    "\n",
    "print(\"Processing done.\")\n",
    "print(\"Counts per lane:\", counts)"
   ]
  },
  {
   "cell_type": "code",
   "execution_count": null,
   "id": "d2948205",
   "metadata": {},
   "outputs": [],
   "source": []
  },
  {
   "cell_type": "code",
   "execution_count": null,
   "id": "b05dd3bb",
   "metadata": {},
   "outputs": [],
   "source": []
  }
 ],
 "metadata": {
  "kernelspec": {
   "display_name": "Python 3",
   "language": "python",
   "name": "python3"
  },
  "language_info": {
   "codemirror_mode": {
    "name": "ipython",
    "version": 3
   },
   "file_extension": ".py",
   "mimetype": "text/x-python",
   "name": "python",
   "nbconvert_exporter": "python",
   "pygments_lexer": "ipython3",
   "version": "3.11.0"
  }
 },
 "nbformat": 4,
 "nbformat_minor": 5
}
